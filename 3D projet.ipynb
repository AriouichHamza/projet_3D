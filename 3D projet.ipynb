{
 "cells": [
  {
   "cell_type": "code",
   "execution_count": 3,
   "id": "0c81ff4d",
   "metadata": {
    "ExecuteTime": {
     "end_time": "2023-12-05T15:42:05.574311300Z",
     "start_time": "2023-12-05T15:42:05.550421400Z"
    }
   },
   "outputs": [
    {
     "ename": "ModuleNotFoundError",
     "evalue": "No module named 'expression'",
     "output_type": "error",
     "traceback": [
      "\u001B[1;31m---------------------------------------------------------------------------\u001B[0m",
      "\u001B[1;31mModuleNotFoundError\u001B[0m                       Traceback (most recent call last)",
      "Cell \u001B[1;32mIn[3], line 1\u001B[0m\n\u001B[1;32m----> 1\u001B[0m \u001B[38;5;28;01mimport\u001B[39;00m \u001B[38;5;21;01mexpression\u001B[39;00m\n\u001B[0;32m      3\u001B[0m \u001B[38;5;28;01mwith\u001B[39;00m \u001B[38;5;28mopen\u001B[39m(\u001B[38;5;124m'\u001B[39m\u001B[38;5;124mhamza.txt\u001B[39m\u001B[38;5;124m'\u001B[39m, \u001B[38;5;124m'\u001B[39m\u001B[38;5;124mr\u001B[39m\u001B[38;5;124m'\u001B[39m) \u001B[38;5;28;01mas\u001B[39;00m file:\n\u001B[0;32m      4\u001B[0m     lines \u001B[38;5;241m=\u001B[39m file\u001B[38;5;241m.\u001B[39mreadlines()\n",
      "\u001B[1;31mModuleNotFoundError\u001B[0m: No module named 'expression'"
     ]
    }
   ],
   "source": [
    "import expression\n",
    "\n",
    "with open('hamza.txt', 'r') as file:\n",
    "    lines = file.readlines()\n",
    "print(lines)"
   ]
  },
  {
   "cell_type": "code",
   "execution_count": null,
   "id": "b37593db",
   "metadata": {
    "scrolled": true,
    "ExecuteTime": {
     "end_time": "2023-12-05T15:41:37.444643400Z",
     "start_time": "2023-12-05T15:41:37.438966900Z"
    }
   },
   "outputs": [],
   "source": [
    "import numpy as np\n",
    "import pandas as pd\n",
    "# Ouvrir le fichier et lire les lignes\n",
    "with open('hamza.txt', 'r') as file:\n",
    "    lines = file.readlines()\n",
    "\n",
    "# Initialiser des listes pour stocker les données\n",
    "data = []\n",
    "\n",
    "# Indicateur pour déterminer si nous sommes à l'intérieur d'un tableau\n",
    "inside_table = True\n",
    "\n",
    "# Parcourir les lignes\n",
    "for line in lines:\n",
    "    if '-----------------' in line:\n",
    "        # Lorsque nous trouvons une ligne de séparation, cela signifie que nous entrons ou sortons d'un tableau\n",
    "        inside_table = not inside_table\n",
    "        #inside_table = not inside_table\n",
    "    elif '|   ' in line:\n",
    "        #Lorsque nous trouvons une ligne de séparation, cela signifie que nous entrons ou sortons d'un tableau\n",
    "        inside_table = not inside_table\n",
    "        #inside_table = not inside_table    \n",
    "    elif expression:\n",
    "        passif inside_table and '|' in line:\n",
    "\n",
    "        # Si nous sommes à l'intérieur d'un tableau et que la ligne contient des barres verticales, alors nous extrayons les données\n",
    "        values =line.strip().split('|')\n",
    "        data.append(values)\n",
    "\n",
    "# Créer un DataFrame à partir des données\n",
    "df= pd.DataFrame(data)\n",
    "\n",
    "# Afficher le DataFrame\n",
    "print(data)\n",
    "#print((df[2][1]))\n",
    "\n",
    "\n"
   ]
  },
  {
   "cell_type": "code",
   "execution_count": null,
   "id": "c48a3f2a",
   "metadata": {
    "ExecuteTime": {
     "start_time": "2023-12-05T15:41:37.440800800Z"
    }
   },
   "outputs": [],
   "source": [
    "# Ouvrir le fichier et lire les lignes\n",
    "with open('hamza.txt', 'r') as file:\n",
    "    lines = file.readlines()\n",
    "\n",
    "# Initialiser des listes pour stocker les données\n",
    "data = []\n",
    "data2 =[]\n",
    "# Indicateur pour déterminer si nous sommes à l'intérieur d'un tableau\n",
    "inside_table = False\n",
    "\n",
    "# Parcourir les lignes\n",
    "for line in lines:\n",
    "    if '-----------------' in line:\n",
    "        # Lorsque nous trouvons une ligne de séparation, cela signifie que nous entrons ou sortons d'un tableau\n",
    "        inside_table = not inside_table\n",
    "    elif inside_table and '|' in line:\n",
    "        # Si nous sommes à l'intérieur d'un tableau et que la ligne contient des barres verticales, alors nous extrayons les données\n",
    "        values = line.strip().split('|' and ':')\n",
    "        data.append(values)\n",
    "n=len(data)\n",
    "for i in range (n):\n",
    "    if data[i] != ['|                 |                 |                 |                 |                 |                 |                 |                 |']:\n",
    "        data2.append(data[i])\n",
    "# Créer un DataFrame à partir des données\n",
    "df = pd.DataFrame(data)\n",
    "\n",
    "'''# Afficher le DataFrame\n",
    "print(df)'''\n",
    "\n",
    "\n",
    "print (data2)\n"
   ]
  },
  {
   "cell_type": "code",
   "execution_count": null,
   "id": "45445dbf",
   "metadata": {
    "ExecuteTime": {
     "end_time": "2023-12-05T15:41:37.445488900Z",
     "start_time": "2023-12-05T15:41:37.445488900Z"
    }
   },
   "outputs": [],
   "source": [
    "# Ouvrir le fichier en mode lecture\n",
    "with open('hamza.txt', 'r') as file:\n",
    "    # Lire toutes les lignes du fichier\n",
    "    lines = file.readlines()\n",
    "\n",
    "# Initialiser la liste résultante\n",
    "result = []\n",
    "\n",
    "# Parcourir chaque ligne du fichier\n",
    "for line in lines:\n",
    "    # Diviser chaque ligne en utilisant le caractère '|'\n",
    "    parts = line.split('|')\n",
    "    # Initialiser une liste temporaire pour stocker les valeurs\n",
    "    temp_list = []\n",
    "    for part in parts:\n",
    "        # Diviser chaque partie en utilisant le caractère ':'\n",
    "        year, value = part.strip().split(':')\n",
    "        # Ajouter les valeurs à la liste temporaire\n",
    "        temp_list.extend([int(year), int(value)])\n",
    "    # Ajouter la liste temporaire à la liste résultante\n",
    "    result.append(temp_list)\n",
    "\n",
    "# Afficher la liste résultante\n",
    "print(result)\n"
   ]
  },
  {
   "cell_type": "code",
   "execution_count": null,
   "id": "470ed917",
   "metadata": {
    "ExecuteTime": {
     "start_time": "2023-12-05T15:41:37.445488900Z"
    }
   },
   "outputs": [],
   "source": [
    "import logging\n",
    "import re\n",
    "def read_log_file(log_file_path):\n",
    "    \"\"\"Reads a log file and returns a list of log entries.\n",
    "    Args:\n",
    "        log_file_path: The path to the log file.\n",
    "    Returns:\n",
    "        A list of log entries.\n",
    "    \"\"\"\n",
    "    log_entries = []\n",
    "    with open(log_file_path, \"r\") as log_file:\n",
    "        for line in log_file:\n",
    "            line = line.strip()\n",
    "            if line.startswith(\"|\"):\n",
    "                log_entries.append(line)\n",
    "        for line in log_entries:\n",
    "            print(re.sub(' +', '', line), end='')\n",
    "    return log_entries\n"
   ]
  },
  {
   "cell_type": "code",
   "execution_count": null,
   "id": "5d4c9d5b",
   "metadata": {
    "ExecuteTime": {
     "start_time": "2023-12-05T15:41:37.445488900Z"
    }
   },
   "outputs": [],
   "source": [
    "log_file_path= 'hamza.txt'\n",
    "#Tableau = read_log_file(log_file_path)\n",
    "print((Tableau[2]))\n",
    "\n",
    "print(type(Tableau[1]))"
   ]
  },
  {
   "cell_type": "code",
   "execution_count": null,
   "id": "14271348",
   "metadata": {
    "scrolled": true,
    "ExecuteTime": {
     "start_time": "2023-12-05T15:41:37.445488900Z"
    }
   },
   "outputs": [],
   "source": [
    "import pandas as pd\n",
    "\n",
    "# Charger les données depuis un fichier CSV (ajustez le chemin du fichier)\n",
    "#data = pd.read_csv('')\n",
    "#data= pd.read_csv('teraterm.log', delimiter='\\t', names=[''])\n",
    "data2 = pd.read_csv('hamza.txt', delimiter='\\t', names=[''])\n",
    "# Afficher les premières lignes des données\n",
    "#print(data2)\n",
    "\n",
    "print(type(data2))"
   ]
  },
  {
   "cell_type": "code",
   "execution_count": null,
   "id": "755ad9c1",
   "metadata": {
    "ExecuteTime": {
     "start_time": "2023-12-05T15:41:37.445488900Z"
    }
   },
   "outputs": [],
   "source": []
  },
  {
   "cell_type": "code",
   "execution_count": null,
   "id": "e533aca8",
   "metadata": {
    "ExecuteTime": {
     "start_time": "2023-12-05T15:41:37.445488900Z"
    }
   },
   "outputs": [],
   "source": [
    "# Diviser les données en caractéristiques (X) et cible (y) si nécessaire\n",
    "X = data.drop('cible', axis=1)  # Remplacez 'cible' par le nom de votre cible\n",
    "y = data['cible']\n",
    "\n",
    "# Maintenant, vous pouvez utiliser X et y pour former votre modèle d'apprentissage machine\n",
    "# Assurez-vous d'importer la bibliothèque de modèle appropriée pour votre tâche (par exemple, scikit-learn pour l'apprentissage supervisé)\n"
   ]
  },
  {
   "cell_type": "code",
   "execution_count": null,
   "id": "06f92959",
   "metadata": {
    "ExecuteTime": {
     "start_time": "2023-12-05T15:41:37.445488900Z"
    }
   },
   "outputs": [],
   "source": []
  },
  {
   "cell_type": "code",
   "execution_count": null,
   "id": "c617f14d",
   "metadata": {
    "ExecuteTime": {
     "start_time": "2023-12-05T15:41:37.445488900Z"
    }
   },
   "outputs": [],
   "source": [
    "import numpy as np\n",
    "#import pandas as pd\n",
    "j=0\n",
    "k=0\n",
    "Data=np.zeros([16,16])\n",
    "for i in Tableau :\n",
    "    if i ==\"|\":\n",
    "        j+=1\n",
    "    if j == 9:\n",
    "        print(Data)\n",
    "        Data = np.zeros([16,16])\n",
    "        j = 0\n",
    "    if i == 0 or i == 1 or i == 2 or i == 3 or i == 4 or i == 5 or i == 6 or i == 7 or i == 8 : #or i == 9:\n",
    "        Data.append(i)\n",
    "        \n",
    "   # k += 1"
   ]
  },
  {
   "cell_type": "code",
   "execution_count": null,
   "id": "6c45c2a9",
   "metadata": {
    "scrolled": true,
    "ExecuteTime": {
     "start_time": "2023-12-05T15:41:37.461113800Z"
    }
   },
   "outputs": [],
   "source": [
    "import numpy as np\n",
    "\n",
    "# Créez une matrice vide 8x8 pour stocker vos matrices 4x4\n",
    "matrix_8x8 = np.empty((8, 8), dtype=object)\n",
    "sub_matrix_2x2 = np.zeros((2, 2)) # Créez une matrice 4x4 (dans cet exemple, remplie de zéros)\n",
    "# Remplissez chaque élément de la matrice 8x8 avec une matrice 4x4\n",
    "for i in range(8):\n",
    "    for j in range(8):\n",
    "        matrix_8x8[i, j] = sub_matrix_2x2\n",
    "\n",
    "# Maintenant, matrix_8x8 est une matrice 8x8 dont les éléments sont des matrices 4x4 remplies de zéros\n",
    "print(matrix_8x8)\n"
   ]
  },
  {
   "cell_type": "code",
   "execution_count": null,
   "id": "94fecc1a",
   "metadata": {
    "scrolled": true,
    "ExecuteTime": {
     "start_time": "2023-12-05T15:41:37.463067800Z"
    }
   },
   "outputs": [],
   "source": [
    "import numpy as np\n",
    "import pandas as pd \n",
    "#N_MAT_8X8 = 8\n",
    "#N_MAT_2X2 = 2\n",
    "Rows_Data = 8\n",
    "Columns_Data = 8\n",
    "i=0\n",
    "j=0\n",
    "c=0\n",
    "#print(df[8][893])\n",
    "#sub_matrix_4x4 = np.zeros((2, 2))\n",
    "for j in range(Rows_Data) :\n",
    "    for i in range(Columns_Data):\n",
    "    \n",
    "        print(df[j][i])\n",
    "        print(c)\n",
    "        c+=1\n"
   ]
  },
  {
   "cell_type": "code",
   "execution_count": null,
   "id": "55b7ffa2",
   "metadata": {
    "ExecuteTime": {
     "start_time": "2023-12-05T15:41:37.464336800Z"
    }
   },
   "outputs": [],
   "source": [
    "def Modif_Chaine_Caractere_To_Liste(list Liste):\n",
    "    "
   ]
  },
  {
   "cell_type": "code",
   "execution_count": null,
   "id": "73c9382a",
   "metadata": {
    "ExecuteTime": {
     "start_time": "2023-12-05T15:41:37.465819100Z"
    }
   },
   "outputs": [],
   "source": [
    "data_str = \"| 12 : 4 | 10 : 3 | 11 : 1 | 9 : 4 | 10 : 5 | 11 : 1 | 11 : 3 | 8 : 3 |\"\n",
    "\n",
    "# Supprimez les caractères \"|\" pour obtenir une liste de paires clé-valeur\n",
    "#data_str = data_str.replace(\"|\", \"\")\n",
    "data_str = data_str.replace(\":\", \"\")\n",
    "data_list = data_str.strip().split()\n",
    "print(data_list)   #test  \n",
    "\n",
    "Liste_De_Sortie=[]\n",
    "# Initialisez une liste vide pour stocker les entiers convertis\n",
    "Nouvel_Liste_str=[]\n",
    "\n",
    "Longuer_De_La_Liste=len(data_list)-1\n",
    "    for i in range(Longuer_De_La_Liste):\n",
    "        if Liste[i]== '|':\n",
    "            #code pur creer un un paire d'élements\n",
    "# Initialisez une liste vide pour stocker les entiers convertis\n",
    "data_int = []\n",
    "\n",
    "# Parcourez la liste de chaînes de caractères\n",
    "for item in data_list:\n",
    "    # Divisez chaque élément en fonction de \":\"\n",
    "    parts = item.split(\":\")\n",
    "    if len(parts) == 2 and parts[0].strip() != \"\" and parts[1].strip() != \"\":\n",
    "        key = int(parts[0].strip())\n",
    "        value = int(parts[1].strip())\n",
    "        data_int.append((key, value))\n",
    "\n",
    "# data_int contiendra maintenant une liste de tuples (clé, valeur) en tant qu'entiers\n",
    "print(data_int)\n"
   ]
  },
  {
   "cell_type": "code",
   "execution_count": null,
   "id": "e2b3c3b2",
   "metadata": {
    "ExecuteTime": {
     "start_time": "2023-12-05T15:41:37.465819100Z"
    }
   },
   "outputs": [],
   "source": [
    "data_str = \"| 12 : 4 | 10 : 3 | 11 : 1 | 9 : 4 | 10 : 5 | 11 : 1 | 11 : 3 | 8 : 3 |\"\n",
    "len(data_str)"
   ]
  },
  {
   "cell_type": "code",
   "execution_count": null,
   "id": "54941348",
   "metadata": {
    "ExecuteTime": {
     "start_time": "2023-12-05T15:41:37.467320100Z"
    }
   },
   "outputs": [],
   "source": [
    "def Creation_Matrice(file) :\n",
    "    #il faut que c est un file txt      \n",
    "    #with open(file_name,\"r\") as f:\n",
    "            lines= file       #f.readlines()\n",
    "            #on tue la ligne 0\n",
    "            lines[0]=\"\"\n",
    "            #on va tuer la ligne 1 et la ligne 4 de chaque carré de la matrice\n",
    "            nombre_lignes=len(lines)\n",
    "            nombre_cases_matrice=int(nombre_lignes/4)\n",
    "            #on remplace les lignes de décorration\n",
    "            for k in range(nombre_cases_matrice):\n",
    "                lines[k*4 +1]=\"\"   #+1\n",
    "                lines[k*4+4]=\"\"\n",
    "            #on prépare la suppression des lignes inutiles\n",
    "            nombre_lignes_a_supprimer=lines.count('')\n",
    "            print(nombre_lignes_a_supprimer)\n",
    "            \n",
    "            #suppression des lignes non-utiles\n",
    "            for k in range(int(nombre_lignes_a_supprimer)):\n",
    "                lines.remove('')\n",
    "\n",
    "            lines_splittées=[]\n",
    "            #séparation des lignes pour élimination des caractères non-pertinents\n",
    "            for k in lines:\n",
    "                lines_splittées.append(k.split())\n",
    "\n",
    "            #on va retirer les \":\" et les \"|\"    \n",
    "            #pour ça, on va d'abord les compter\n",
    "            nombre_char_a_suppr=lines_splittées[0].count('|')\n",
    "            nombre_char_a_suppr2=lines_splittées[0].count(':')\n",
    "\n",
    "            #pour chaque ligne\n",
    "            for j in range(16):\n",
    "                #on dégage les \"|\"\n",
    "                for k in range(int(nombre_char_a_suppr)):\n",
    "                    lines_splittées[j].remove('|')\n",
    "                #on dégage les \":\"\"\n",
    "                for i in range(int(nombre_char_a_suppr2)):\n",
    "                    lines_splittées[j].remove(':')\n",
    "\n",
    "            #on va préparer les cases de la liste\n",
    "            sorted_array=[[]for k in range(64)]\n",
    "            #pour faire passer aux lignes suivantes de la matrice\n",
    "            numero_ligne=0\n",
    "            for k,l in enumerate(lines_splittées):\n",
    "                numero_colonne=0\n",
    "                for j in range(int(len(l)/2)):\n",
    "                    #on récupère les deux infos\n",
    "                    sorted_array[numero_ligne*8+numero_colonne].append(l[2*j])\n",
    "                    sorted_array[numero_ligne*8+numero_colonne].append(l[2*j+1])\n",
    "                    numero_colonne+=1\n",
    "                #on n'incrémente le compteur de ligne de la matrice qu'une ligne sur deux\n",
    "                numero_ligne+=k%2\n",
    "\n",
    "            return sorted_array"
   ]
  },
  {
   "cell_type": "code",
   "execution_count": null,
   "id": "76d514eb",
   "metadata": {
    "ExecuteTime": {
     "end_time": "2023-12-05T15:41:37.524502600Z",
     "start_time": "2023-12-05T15:41:37.467320100Z"
    }
   },
   "outputs": [],
   "source": [
    "with open(\"teraterm2.txt\",\"r\") as file:\n",
    "    lines = file.readlines()\n",
    "    Nbr_Line = len(lines)\n",
    "    print(Nbr_Line)\n",
    "    Nbr_De_Ligne_Matrix = 32\n",
    "    k = 0\n",
    "    i = 2 \n",
    "    data=[]\n",
    "    while  i <  Nbr_Line - Nbr_De_Ligne_Matrix :\n",
    "        if '----------------- ----------------- ----------------- ----------------- ----------------- ----------------- ----------------- -----------------' in lines[i]: \n",
    "        # détection de début de la matrix \n",
    "            matrice_etudier=lines[i:i+Nbr_De_Ligne_Matrix]\n",
    "            print(matrice_etudier)\n",
    "            data.append(Creation_Matrice(matrice_etudier))\n",
    "            i =i+Nbr_De_Ligne_Matrix   \n",
    "        else:    \n",
    "            i =i+1\n",
    "data        \n",
    "        \n",
    "        \n"
   ]
  },
  {
   "cell_type": "code",
   "execution_count": null,
   "id": "37fcd2d0",
   "metadata": {
    "ExecuteTime": {
     "start_time": "2023-12-05T15:41:37.469569Z"
    }
   },
   "outputs": [],
   "source": []
  }
 ],
 "metadata": {
  "kernelspec": {
   "display_name": "Python 3 (ipykernel)",
   "language": "python",
   "name": "python3"
  },
  "language_info": {
   "codemirror_mode": {
    "name": "ipython",
    "version": 3
   },
   "file_extension": ".py",
   "mimetype": "text/x-python",
   "name": "python",
   "nbconvert_exporter": "python",
   "pygments_lexer": "ipython3",
   "version": "3.9.13"
  }
 },
 "nbformat": 4,
 "nbformat_minor": 5
}
